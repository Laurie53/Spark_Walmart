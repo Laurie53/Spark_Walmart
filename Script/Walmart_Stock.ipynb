{
 "cells": [
  {
   "cell_type": "markdown",
   "metadata": {},
   "source": [
    "Sommaire :\n",
    " - <a href=\"#1\">Importation des packages du sparkSession et de la base </a>\n",
    " - <a href=\"#2\">Questions </a>"
   ]
  },
  {
   "cell_type": "markdown",
   "metadata": {},
   "source": [
    "<a name=\"1\">Importation des packages du sparkSession et de la base </a>"
   ]
  },
  {
   "cell_type": "code",
   "execution_count": 67,
   "metadata": {},
   "outputs": [],
   "source": [
    "# Importation\n",
    "from pyspark.sql import SparkSession\n",
    "from pyspark.sql import functions as F\n",
    "\n",
    "\n",
    "# Instantiation\n",
    "spark = SparkSession.builder \\\n",
    "                    .master(\"local\") \\\n",
    "                    .appName(\"FolksDF\") \\\n",
    "                    .getOrCreate()"
   ]
  },
  {
   "cell_type": "markdown",
   "metadata": {},
   "source": [
    "<a name=\"2\">Questions </a>"
   ]
  },
  {
   "cell_type": "markdown",
   "metadata": {},
   "source": [
    "**Questions 1&2 : Start a Spark Session, load the Walmart StockFile**\n"
   ]
  },
  {
   "cell_type": "code",
   "execution_count": 68,
   "metadata": {},
   "outputs": [
    {
     "name": "stdout",
     "output_type": "stream",
     "text": [
      "+----------+------------------+------------------+------------------+------------------+--------+------------------+\n",
      "|      Date|              Open|              High|               Low|             Close|  Volume|         Adj Close|\n",
      "+----------+------------------+------------------+------------------+------------------+--------+------------------+\n",
      "|2012-01-03|         59.970001|         61.060001|         59.869999|         60.330002|12668800|52.619234999999996|\n",
      "|2012-01-04|60.209998999999996|         60.349998|         59.470001|59.709998999999996| 9593300|         52.078475|\n",
      "|2012-01-05|         59.349998|         59.619999|         58.369999|         59.419998|12768200|         51.825539|\n",
      "|2012-01-06|         59.419998|         59.450001|         58.869999|              59.0| 8069400|          51.45922|\n",
      "|2012-01-09|         59.029999|         59.549999|         58.919998|             59.18| 6679300|51.616215000000004|\n",
      "|2012-01-10|             59.43|59.709998999999996|             58.98|59.040001000000004| 6907300|         51.494109|\n",
      "|2012-01-11|         59.060001|         59.529999|59.040001000000004|         59.400002| 6365600|         51.808098|\n",
      "|2012-01-12|59.790001000000004|              60.0|         59.400002|              59.5| 7236400|51.895315999999994|\n",
      "|2012-01-13|             59.18|59.610001000000004|59.009997999999996|59.540001000000004| 7729300|51.930203999999996|\n",
      "|2012-01-17|         59.869999|60.110001000000004|             59.52|         59.849998| 8500000|         52.200581|\n",
      "|2012-01-18|59.790001000000004|         60.029999|         59.650002|60.009997999999996| 5911400|         52.340131|\n",
      "|2012-01-19|             59.93|             60.73|             59.75|60.610001000000004| 9234600|         52.863447|\n",
      "|2012-01-20|             60.75|             61.25|         60.669998|61.009997999999996|10378800|53.212320999999996|\n",
      "|2012-01-23|         60.810001|             60.98|60.509997999999996|             60.91| 7134100|         53.125104|\n",
      "|2012-01-24|             60.75|              62.0|             60.75|61.389998999999996| 7362800| 53.54375400000001|\n",
      "|2012-01-25|             61.18|61.610001000000004|61.040001000000004|         61.470001| 5915800| 53.61353100000001|\n",
      "|2012-01-26|         61.799999|             61.84|             60.77|         60.970001| 7436200|         53.177436|\n",
      "|2012-01-27|60.860001000000004|         61.119999|60.540001000000004|60.709998999999996| 6287300|         52.950665|\n",
      "|2012-01-30|         60.470001|             61.32|         60.349998|         61.299999| 7636900|53.465256999999994|\n",
      "|2012-01-31|         61.529999|             61.57|         60.580002|61.360001000000004| 9761500|53.517590000000006|\n",
      "+----------+------------------+------------------+------------------+------------------+--------+------------------+\n",
      "only showing top 20 rows\n",
      "\n"
     ]
    }
   ],
   "source": [
    "# Importation du fichier\n",
    "Walmart = spark.read \\\n",
    "                .option(\"header\",'true') \\\n",
    "                .option(\"delimiter\",\",\") \\\n",
    "                .csv(\"walmart_stock.csv\")\n",
    "Walmart.show()"
   ]
  },
  {
   "cell_type": "markdown",
   "metadata": {},
   "source": [
    "**Question 3 : Column names**"
   ]
  },
  {
   "cell_type": "code",
   "execution_count": 5,
   "metadata": {},
   "outputs": [
    {
     "data": {
      "text/plain": [
       "['Date', 'Open', 'High', 'Low', 'Close', 'Volume', 'Adj Close']"
      ]
     },
     "execution_count": 5,
     "metadata": {},
     "output_type": "execute_result"
    }
   ],
   "source": [
    "Walmart.columns"
   ]
  },
  {
   "cell_type": "markdown",
   "metadata": {},
   "source": [
    "<font color=\"blue\"> Donc les noms de colonnes sont: Date, Open, Hight, Low, .. "
   ]
  },
  {
   "cell_type": "markdown",
   "metadata": {},
   "source": [
    "**Question 4 : Schema** "
   ]
  },
  {
   "cell_type": "code",
   "execution_count": 6,
   "metadata": {},
   "outputs": [
    {
     "name": "stdout",
     "output_type": "stream",
     "text": [
      "root\n",
      " |-- Date: string (nullable = true)\n",
      " |-- Open: string (nullable = true)\n",
      " |-- High: string (nullable = true)\n",
      " |-- Low: string (nullable = true)\n",
      " |-- Close: string (nullable = true)\n",
      " |-- Volume: string (nullable = true)\n",
      " |-- Adj Close: string (nullable = true)\n",
      "\n"
     ]
    }
   ],
   "source": [
    "Walmart.printSchema()"
   ]
  },
  {
   "cell_type": "markdown",
   "metadata": {},
   "source": [
    "<font color=\"blue\"> Cette commande affiche chaque nom de variable avec son type ansi que 'nullable = true' : autorise les valeurs nulles "
   ]
  },
  {
   "cell_type": "markdown",
   "metadata": {},
   "source": [
    "**Question 5 : Create a new dataframe WalmartNew with a column called HV_Ratio that is the ratio of the High Price versus volume of stock traded for a day**"
   ]
  },
  {
   "cell_type": "code",
   "execution_count": 7,
   "metadata": {},
   "outputs": [
    {
     "data": {
      "text/plain": [
       "Row(Date='2012-01-03', Open='59.970001', High='61.060001', Low='59.869999', Close='60.330002', Volume='12668800', Adj Close='52.619234999999996', HV_Ratio=4.819714653321546e-06)"
      ]
     },
     "execution_count": 7,
     "metadata": {},
     "output_type": "execute_result"
    }
   ],
   "source": [
    "WalmartNew = Walmart.withColumn(\"HV_Ratio\", F.col(\"High\")/F.col(\"Volume\"))\n",
    "WalmartNew.head() # juste la premiere ligne"
   ]
  },
  {
   "cell_type": "markdown",
   "metadata": {},
   "source": [
    "<font color=\"green\"> **Remarque**: WalmartNew.show(4) affiche les 4 premieres lignes </font>"
   ]
  },
  {
   "cell_type": "markdown",
   "metadata": {},
   "source": [
    "**Question 6: What day had the Peak High in Price?**"
   ]
  },
  {
   "cell_type": "markdown",
   "metadata": {},
   "source": [
    "- En SQL :\n"
   ]
  },
  {
   "cell_type": "code",
   "execution_count": 8,
   "metadata": {},
   "outputs": [],
   "source": [
    "WalmartNew.createOrReplaceTempView(\"WalmartSQL\") # transformation du data frame en table"
   ]
  },
  {
   "cell_type": "code",
   "execution_count": 9,
   "metadata": {},
   "outputs": [
    {
     "name": "stdout",
     "output_type": "stream",
     "text": [
      "+----------+\n",
      "|      Date|\n",
      "+----------+\n",
      "|2015-01-13|\n",
      "+----------+\n",
      "\n"
     ]
    }
   ],
   "source": [
    "#spark.sql(\"\"\"select Date from WalmartSQL order by High desc\"\"\").first() # solution 1\n",
    "\n",
    "spark.sql(\"\"\"select Date from WalmartSQL order by High desc limit 1\"\"\").show() # solution 2"
   ]
  },
  {
   "cell_type": "markdown",
   "metadata": {},
   "source": [
    "- En DSL : (donc en spark)"
   ]
  },
  {
   "cell_type": "code",
   "execution_count": 10,
   "metadata": {},
   "outputs": [
    {
     "data": {
      "text/plain": [
       "Row(Date='2015-01-13')"
      ]
     },
     "execution_count": 10,
     "metadata": {},
     "output_type": "execute_result"
    }
   ],
   "source": [
    "#WalmartNew.orderBy(F.col(\"High\").desc()) \\\n",
    "#          .select(F.col(\"Date\")) \\\n",
    "#          .head()                                    # solution 1\n",
    "\n",
    "WalmartNew.select(F.col(\"Date\")) \\\n",
    "          .orderBy(F.col(\"High\").desc()) \\\n",
    "          .head()                                    # solution 1 bis ( ressemble au SQL)"
   ]
  },
  {
   "cell_type": "markdown",
   "metadata": {},
   "source": [
    "**Question 6 : What is the mean of the Close column?**"
   ]
  },
  {
   "cell_type": "markdown",
   "metadata": {},
   "source": [
    "- En SQL :"
   ]
  },
  {
   "cell_type": "code",
   "execution_count": 11,
   "metadata": {},
   "outputs": [
    {
     "name": "stdout",
     "output_type": "stream",
     "text": [
      "+-----------------+\n",
      "|          Moyenne|\n",
      "+-----------------+\n",
      "|72.38844998012726|\n",
      "+-----------------+\n",
      "\n"
     ]
    }
   ],
   "source": [
    "spark.sql(\"\"\"select mean(Close) as Moyenne from WalmartSQL\"\"\").show()"
   ]
  },
  {
   "cell_type": "markdown",
   "metadata": {},
   "source": [
    "- En DSL"
   ]
  },
  {
   "cell_type": "code",
   "execution_count": 12,
   "metadata": {},
   "outputs": [
    {
     "name": "stdout",
     "output_type": "stream",
     "text": [
      "+-----------------+\n",
      "|          Moyenne|\n",
      "+-----------------+\n",
      "|72.38844998012726|\n",
      "+-----------------+\n",
      "\n"
     ]
    }
   ],
   "source": [
    "#WalmartNew.select(\"Close\") \\\n",
    "#          .summary(\"mean\") \\\n",
    "#          .show()                                # solution 1\n",
    "\n",
    "WalmartNew.agg(F.mean(\"Close\") \\\n",
    "          .alias(\"Moyenne\")) \\\n",
    "          .show()                                # solution 2"
   ]
  },
  {
   "cell_type": "markdown",
   "metadata": {},
   "source": [
    "<font color=\"green\"> **Remarque** : on peut changer mean par avg"
   ]
  },
  {
   "cell_type": "markdown",
   "metadata": {},
   "source": [
    "**Question 7 : What is the max and min of the Volume column?**"
   ]
  },
  {
   "cell_type": "markdown",
   "metadata": {},
   "source": [
    "- En SQL :"
   ]
  },
  {
   "cell_type": "code",
   "execution_count": 14,
   "metadata": {},
   "outputs": [
    {
     "name": "stdout",
     "output_type": "stream",
     "text": [
      "+-------+--------+\n",
      "|    Max|     Min|\n",
      "+-------+--------+\n",
      "|9994400|10010500|\n",
      "+-------+--------+\n",
      "\n"
     ]
    }
   ],
   "source": [
    "spark.sql(\"\"\"select max(Volume) as Max, min(Volume) as Min from WalmartSQL\"\"\").show()"
   ]
  },
  {
   "cell_type": "markdown",
   "metadata": {},
   "source": [
    "- En DSL :"
   ]
  },
  {
   "cell_type": "code",
   "execution_count": 16,
   "metadata": {},
   "outputs": [
    {
     "name": "stdout",
     "output_type": "stream",
     "text": [
      "+-------+--------+\n",
      "|    Max|     Min|\n",
      "+-------+--------+\n",
      "|9994400|10010500|\n",
      "+-------+--------+\n",
      "\n"
     ]
    }
   ],
   "source": [
    "WalmartNew.agg(F.max(\"Volume\").alias(\"Max\"),F.min(\"Volume\").alias(\"Min\")) \\\n",
    "          .show()"
   ]
  },
  {
   "cell_type": "markdown",
   "metadata": {},
   "source": [
    "**Question 8 : How many days was the Close lower than 60 dollars?**"
   ]
  },
  {
   "cell_type": "markdown",
   "metadata": {},
   "source": [
    "- En SQL :"
   ]
  },
  {
   "cell_type": "code",
   "execution_count": 17,
   "metadata": {},
   "outputs": [
    {
     "name": "stdout",
     "output_type": "stream",
     "text": [
      "+---+\n",
      "| Nb|\n",
      "+---+\n",
      "| 81|\n",
      "+---+\n",
      "\n"
     ]
    }
   ],
   "source": [
    "spark.sql(\"\"\"select count(Date) as Nb from WalmartSQL where Close < '60' \"\"\").show()"
   ]
  },
  {
   "cell_type": "markdown",
   "metadata": {},
   "source": [
    "- En DSL :"
   ]
  },
  {
   "cell_type": "code",
   "execution_count": 18,
   "metadata": {},
   "outputs": [
    {
     "data": {
      "text/plain": [
       "81"
      ]
     },
     "execution_count": 18,
     "metadata": {},
     "output_type": "execute_result"
    }
   ],
   "source": [
    "#WalmartNew.filter(F.col(\"Close\") < '60') \\\n",
    "#          .agg(F.count(\"Date\")) \\ # faire l'aggregation apres le filter\n",
    "#          .show()                                             # solution 1\n",
    "\n",
    "WalmartNew.filter(F.col(\"Close\") < '60') \\\n",
    "          .count()                                             # solution 2"
   ]
  },
  {
   "cell_type": "markdown",
   "metadata": {},
   "source": [
    "<font color=\"green\"> **Remarque:** Faire le filter avant agg "
   ]
  },
  {
   "cell_type": "markdown",
   "metadata": {},
   "source": [
    "**Question 10 : What percentage of the time was the High greater than 80 dollars ?**"
   ]
  },
  {
   "cell_type": "markdown",
   "metadata": {},
   "source": [
    "- En SQL :"
   ]
  },
  {
   "cell_type": "code",
   "execution_count": 44,
   "metadata": {},
   "outputs": [
    {
     "name": "stdout",
     "output_type": "stream",
     "text": [
      "+-----------+\n",
      "|Pourcentage|\n",
      "+-----------+\n",
      "|       9.14|\n",
      "+-----------+\n",
      "\n"
     ]
    }
   ],
   "source": [
    "spark.sql(\"\"\" select round(\n",
    "                            (select count(*) from WalmartSQL\n",
    "                                where High>='80') / (count(*))* 100\n",
    "                        , 2)  as Pourcentage from WalmartSQL\"\"\").show()\n"
   ]
  },
  {
   "cell_type": "markdown",
   "metadata": {},
   "source": [
    "<font color=\"green\">  **Remarque:** En SQL, il faut mettre >= et non > </font> \n"
   ]
  },
  {
   "cell_type": "markdown",
   "metadata": {},
   "source": [
    "- En DSL"
   ]
  },
  {
   "cell_type": "code",
   "execution_count": 45,
   "metadata": {},
   "outputs": [
    {
     "name": "stdout",
     "output_type": "stream",
     "text": [
      "+-----------+\n",
      "|Pourcentage|\n",
      "+-----------+\n",
      "|       9.14|\n",
      "+-----------+\n",
      "\n"
     ]
    }
   ],
   "source": [
    "Temporaire = WalmartNew.filter(F.col(\"High\")>'80') \\\n",
    "                        .agg(F.count(\"*\").alias (\"Comptage\")) \\\n",
    "                        .collect()[0][0] \n",
    "\n",
    "WalmartNew.agg(F.round((Temporaire/F.count(\"*\")*100),2).alias(\"Pourcentage\")) \\\n",
    "          .show()"
   ]
  },
  {
   "cell_type": "markdown",
   "metadata": {},
   "source": [
    "**Question 11 : What is the max High per year?**"
   ]
  },
  {
   "cell_type": "markdown",
   "metadata": {},
   "source": [
    "<font color=\"blue\"> **Astuce:  per -> group by**"
   ]
  },
  {
   "cell_type": "markdown",
   "metadata": {},
   "source": [
    "- En SQL :"
   ]
  },
  {
   "cell_type": "code",
   "execution_count": 73,
   "metadata": {},
   "outputs": [
    {
     "name": "stdout",
     "output_type": "stream",
     "text": [
      "+-----+---------+\n",
      "|Annee| Max_High|\n",
      "+-----+---------+\n",
      "| 2012|77.599998|\n",
      "| 2013|81.370003|\n",
      "| 2014|88.089996|\n",
      "| 2015|90.970001|\n",
      "| 2016|75.190002|\n",
      "+-----+---------+\n",
      "\n"
     ]
    }
   ],
   "source": [
    "spark.sql(\"\"\" select  substr(Date,1,4) as Annee, max(High) as Max_High from WalmartSQL group by Annee order by Annee asc \"\"\").show() "
   ]
  },
  {
   "cell_type": "markdown",
   "metadata": {},
   "source": [
    "- En DSL :"
   ]
  },
  {
   "cell_type": "markdown",
   "metadata": {},
   "source": [
    "<font color=\"blue\"> Partie 1 : Crée une nouelle colonne Annee qui extrait l'annee depuis la variable Date"
   ]
  },
  {
   "cell_type": "code",
   "execution_count": 51,
   "metadata": {},
   "outputs": [
    {
     "name": "stdout",
     "output_type": "stream",
     "text": [
      "+----------+-----+\n",
      "|      Date|Annee|\n",
      "+----------+-----+\n",
      "|2012-01-03| 2012|\n",
      "|2012-01-04| 2012|\n",
      "|2012-01-05| 2012|\n",
      "|2012-01-06| 2012|\n",
      "+----------+-----+\n",
      "only showing top 4 rows\n",
      "\n"
     ]
    }
   ],
   "source": [
    "WalmartNew = WalmartNew.withColumn(\"Annee\",F.substring(\"Date\",1,4))\n",
    "WalmartNew.select(\"Date\", \"Annee\").show(4) \n"
   ]
  },
  {
   "cell_type": "markdown",
   "metadata": {},
   "source": [
    "<font color=\"blue\"> Partie 2 : Pour chaque annee, trouver le max du prix correspondant"
   ]
  },
  {
   "cell_type": "code",
   "execution_count": 74,
   "metadata": {},
   "outputs": [
    {
     "name": "stdout",
     "output_type": "stream",
     "text": [
      "+-----+---------+\n",
      "|Annee|max(High)|\n",
      "+-----+---------+\n",
      "| 2012|77.599998|\n",
      "| 2013|81.370003|\n",
      "| 2014|88.089996|\n",
      "| 2015|90.970001|\n",
      "| 2016|75.190002|\n",
      "+-----+---------+\n",
      "\n"
     ]
    }
   ],
   "source": [
    "WalmartNew.groupBy(F.col(\"Annee\")) \\\n",
    "          .agg(F.max(\"High\")) \\\n",
    "          .orderBy(F.col(\"Annee\").asc()) \\\n",
    "          .show()"
   ]
  },
  {
   "cell_type": "markdown",
   "metadata": {},
   "source": [
    "<font color=\"green\"> **Remarque** : Encore une fois, le groupBy avant le agg"
   ]
  },
  {
   "cell_type": "markdown",
   "metadata": {},
   "source": [
    "**Question 12 : What is the average Close for each Calendar Month?**"
   ]
  },
  {
   "cell_type": "markdown",
   "metadata": {},
   "source": [
    "- En SQL :"
   ]
  },
  {
   "cell_type": "code",
   "execution_count": 70,
   "metadata": {},
   "outputs": [
    {
     "name": "stdout",
     "output_type": "stream",
     "text": [
      "+----+-----------------+\n",
      "|Mois|          Moyenne|\n",
      "+----+-----------------+\n",
      "|  01|71.44801958415842|\n",
      "|  02|  71.306804443299|\n",
      "|  03|71.77794377570092|\n",
      "|  04|72.97361900952382|\n",
      "|  05|72.30971688679247|\n",
      "|  06| 72.4953774245283|\n",
      "|  07|74.43971943925233|\n",
      "|  08|73.02981855454546|\n",
      "|  09|72.18411785294116|\n",
      "|  10|71.57854545454543|\n",
      "|  11| 72.1110893069307|\n",
      "|  12|72.84792478301885|\n",
      "+----+-----------------+\n",
      "\n"
     ]
    }
   ],
   "source": [
    "spark.sql(\"\"\" select  substr(Date,6,2) as Mois, mean(Close) as Moyenne from WalmartSQL group by Mois order by Mois asc \"\"\").show()  "
   ]
  },
  {
   "cell_type": "markdown",
   "metadata": {},
   "source": [
    "- En DSL :"
   ]
  },
  {
   "cell_type": "code",
   "execution_count": 72,
   "metadata": {},
   "outputs": [
    {
     "name": "stdout",
     "output_type": "stream",
     "text": [
      "+----+-----------------+\n",
      "|Mois|          Moyenne|\n",
      "+----+-----------------+\n",
      "|  01|71.44801958415842|\n",
      "|  02|  71.306804443299|\n",
      "|  03|71.77794377570092|\n",
      "|  04|72.97361900952382|\n",
      "|  05|72.30971688679247|\n",
      "|  06| 72.4953774245283|\n",
      "|  07|74.43971943925233|\n",
      "|  08|73.02981855454546|\n",
      "|  09|72.18411785294116|\n",
      "|  10|71.57854545454543|\n",
      "|  11| 72.1110893069307|\n",
      "|  12|72.84792478301885|\n",
      "+----+-----------------+\n",
      "\n"
     ]
    }
   ],
   "source": [
    "WalmartNew = WalmartNew.withColumn(\"Mois\",F.substring(\"Date\",6,2))\n",
    "\n",
    "WalmartNew.groupBy(F.col(\"Mois\")) \\\n",
    "          .agg(F.mean(\"Close\").alias(\"Moyenne\")) \\\n",
    "          .orderBy(F.col(\"Mois\").asc()) \\\n",
    "          .show()"
   ]
  }
 ],
 "metadata": {
  "kernelspec": {
   "display_name": "Python 3",
   "language": "python",
   "name": "python3"
  },
  "language_info": {
   "codemirror_mode": {
    "name": "ipython",
    "version": 3
   },
   "file_extension": ".py",
   "mimetype": "text/x-python",
   "name": "python",
   "nbconvert_exporter": "python",
   "pygments_lexer": "ipython3",
   "version": "3.8.5"
  }
 },
 "nbformat": 4,
 "nbformat_minor": 4
}
